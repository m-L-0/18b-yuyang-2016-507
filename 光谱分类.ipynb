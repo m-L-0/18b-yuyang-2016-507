{
 "cells": [
  {
   "cell_type": "code",
   "execution_count": 10,
   "metadata": {},
   "outputs": [],
   "source": [
    "import matplotlib.pyplot as plt\n",
    "import numpy as np\n",
    "import pandas as pd\n",
    "from scipy.io import loadmat\n",
    "from sklearn.svm import SVC"
   ]
  },
  {
   "cell_type": "code",
   "execution_count": 21,
   "metadata": {},
   "outputs": [],
   "source": [
    "#导入数据\n",
    "data2 = loadmat('D:/train/data2_train.mat')\n",
    "data3 = loadmat('D:/train/data3_train.mat')\n",
    "data5 = loadmat('D:/train/data5_train.mat')\n",
    "data6 = loadmat('D:/train/data6_train.mat')\n",
    "data8 = loadmat('D:/train/data8_train.mat')\n",
    "data10 = loadmat('D:/train/data10_train.mat')\n",
    "data11 = loadmat('D:/train/data11_train.mat')\n",
    "data12 = loadmat('D:/train/data12_train.mat')\n",
    "data14 = loadmat('D:/train/data14_train.mat')\n"
   ]
  },
  {
   "cell_type": "code",
   "execution_count": 22,
   "metadata": {
    "collapsed": true
   },
   "outputs": [],
   "source": [
    "#制作数据集\n",
    "data_train2=data2['data2_train']\n",
    "data_train3=data3['data3_train']\n",
    "data_train5=data5['data5_train']\n",
    "data_train6=data6['data6_train']\n",
    "data_train8=data8['data8_train']\n",
    "data_train10=data10['data10_train']\n",
    "data_train11=data11['data11_train']\n",
    "data_train12=data12['data12_train'\n",
    "data_train14=data14['data14_train']"
   ]
  },
  {
   "cell_type": "code",
   "execution_count": 24,
   "metadata": {},
   "outputs": [],
   "source": [
    "import scipy.io as sio\n",
    "import pandas as pd\n",
    "import numpy as np\n",
    "x_shape=[1071,622,362,547,358,729,1841,445,949]\n",
    "label = [2,3,5,6,8,10,11,12,14]"
   ]
  },
  {
   "cell_type": "code",
   "execution_count": null,
   "metadata": {
    "collapsed": true
   },
   "outputs": [],
   "source": [
    "#标准化数据集\n",
    "data_M = preprocessing.StandardScaler().fit_transform(new_datawithlabel_array[:,:-1])\n",
    "data_N = new_datawithlabel_array[:,-1]\n",
    "#模型训练及存储\n",
    "import joblib\n",
    "from sklearn.model_selection import KFold\n",
    "from sklearn.model_selection import train_test_split\n",
    "import numpy as np\n",
    "from sklearn.svm import SVC\n",
    "from sklearn import metrics\n",
    "from sklearn import preprocessing\n",
    "import pandas as pd\n",
    "# 导入数据集切割训练与测试数据\n",
    "data = pd.read_csv('/Users/mrlevo/Desktop/exp_data/KSC.csv',header=None)\n",
    "data = data.as_matrix()\n",
    "data_M = data[:,:-1]\n",
    "data_N = data[:,-1]\n",
    "data_train, data_test, label_train, label_test = train_test_split(data_D,data_L,test_size=0.5)\n",
    "# 模型训练与拟合\n",
    "clf = SVC(kernel='rbf',gamma=0.125,C=16)\n",
    "clf.fit(data_train,label_train)\n",
    "pred = clf.predict(data_test)\n",
    "accuracy = metrics.accuracy_score(label_test, pred)*100\n",
    "print accuracy"
   ]
  }
 ],
 "metadata": {
  "kernelspec": {
   "display_name": "Python 3",
   "language": "python",
   "name": "python3"
  },
  "language_info": {
   "codemirror_mode": {
    "name": "ipython",
    "version": 3
   },
   "file_extension": ".py",
   "mimetype": "text/x-python",
   "name": "python",
   "nbconvert_exporter": "python",
   "pygments_lexer": "ipython3",
   "version": "3.6.3"
  }
 },
 "nbformat": 4,
 "nbformat_minor": 2
}
