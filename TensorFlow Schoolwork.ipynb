{
 "cells": [
  {
   "cell_type": "code",
   "execution_count": 1,
   "metadata": {},
   "outputs": [
    {
     "ename": "IndentationError",
     "evalue": "expected an indented block (<ipython-input-1-b96f8dddfa04>, line 31)",
     "output_type": "error",
     "traceback": [
      "\u001b[1;36m  File \u001b[1;32m\"<ipython-input-1-b96f8dddfa04>\"\u001b[1;36m, line \u001b[1;32m31\u001b[0m\n\u001b[1;33m    return (training_instance, get_distance(test_instance, training_instance[0]))\u001b[0m\n\u001b[1;37m         ^\u001b[0m\n\u001b[1;31mIndentationError\u001b[0m\u001b[1;31m:\u001b[0m expected an indented block\n"
     ]
    }
   ],
   "source": [
    "#导入数据集并生成训练集与测试集\n",
    "#导入sklearn及numpy模块\n",
    "from sklearn.datasets import load_iris\n",
    "from sklearn import cross_validation\n",
    "import numpy as np\n",
    "# 导入鸢尾花数据集\n",
    "iris = load_iris()\n",
    "X_train, X_test, y_train, y_test = cross_validation.train_test_split(iris.data, iris.target, test_size=0.4, random_state=1)\n",
    "# 重新生成train/test datasets\n",
    "train = np.array(zip(X_train,y_train))\n",
    "test = np.array(zip(X_test, y_test))\n",
    "#测量所有样本之间的距离\n",
    "import math\n",
    "def get_distance(data1, data2):\n",
    "    points = zip(data1, data2)\n",
    "    diffs_squared_distance = [pow(a - b, 2) for (a, b) in points]\n",
    "    return math.sqrt(sum(diffs_squared_distance))\n",
    "#计算所有近邻的距离\n",
    "from operator import itemgetter #获取多维对象中的某个值\n",
    "\n",
    "def get_neighbours(training_set, test_instance, k):\n",
    "    distances = [_get_tuple_distance(training_instance, test_instance) for training_instance in training_set]\n",
    "    # index 1 is the calculated distance between training_instance and test_instance\n",
    "    sorted_distances = sorted(distances, key=itemgetter(1))\n",
    "    # extract only training instances\n",
    "    sorted_training_instances = [tuple[0] for tuple in sorted_distances]\n",
    "    # select first k elements\n",
    "    return sorted_training_instances[:k]\n",
    "\n",
    "def _get_tuple_distance(training_instance, test_instance):\n",
    "return (training_instance, get_distance(test_instance, training_instance[0]))\n",
    "#对k个近邻投票选择测试样本最优属性\n",
    "from collections import Counter\n",
    "#构建投票选择函数\n",
    "def get_majority_vote(neighbours):\n",
    "    # index 1 is the class\n",
    "    classes = [neighbour[1] for neighbour in neighbours]\n",
    "    count = Counter(classes)\n",
    "#return count.most_common()[0][0]\n",
    "#基于iris数据运行代码\n",
    "#设置k值\n",
    "from sklearn.metrics import classification_report, accuracy_score\n",
    "predictions = []\n",
    "k = 5\n",
    "#对于每一个测试集数据，基于前边设置的函数来判定其属性，并加入predictions列表中\n",
    "for x in range(len(X_test)):\n",
    "   print ('Classifying test instance number ' + str(x) + \":\"),\n",
    "   neighbours = get_neighbours(training_set=train, test_instance=test[x][0], k=5)\n",
    "   majority_vote = get_majority_vote(neighbours)\n",
    "   predictions.append(majority_vote)\n",
    "   print ('Predicted label=' + str(majority_vote) + ', Actual label=' + str(test[x][1]))\n",
    "    # 对分类预测结果进行整体分析与报告\n",
    "    print ('\\nThe overall accuracy of the model is: ' + str(accuracy_score(y_test, predictions)) + \"\\n\")\n",
    "    report = classification_report(y_test, predictions, target_names = iris.target_names)\n",
    "    print ('A detailed classification report: \\n\\n' + report)\n",
    "if __name__ == \"__main__\":\n",
    "main()"
   ]
  },
  {
   "cell_type": "code",
   "execution_count": null,
   "metadata": {
    "collapsed": true
   },
   "outputs": [],
   "source": []
  }
 ],
 "metadata": {
  "kernelspec": {
   "display_name": "Python 3",
   "language": "python",
   "name": "python3"
  },
  "language_info": {
   "codemirror_mode": {
    "name": "ipython",
    "version": 3
   },
   "file_extension": ".py",
   "mimetype": "text/x-python",
   "name": "python",
   "nbconvert_exporter": "python",
   "pygments_lexer": "ipython3",
   "version": "3.6.3"
  }
 },
 "nbformat": 4,
 "nbformat_minor": 2
}
